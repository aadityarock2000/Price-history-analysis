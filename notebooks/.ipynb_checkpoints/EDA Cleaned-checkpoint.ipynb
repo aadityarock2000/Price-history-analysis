{
 "cells": [
  {
   "cell_type": "code",
   "execution_count": 2,
   "id": "bdb0d631",
   "metadata": {},
   "outputs": [],
   "source": [
    "import numpy as np\n",
    "import pandas as pd\n",
    "import matplotlib.pyplot as plt "
   ]
  },
  {
   "cell_type": "code",
   "execution_count": 3,
   "id": "5d1207a5",
   "metadata": {},
   "outputs": [],
   "source": [
    "data_path=\"D:\\\\Projects\\\\price_history\\\\data\\\\\"\n",
    "places=[\"CHENNAI\",\"DELHI\",\"LUCKNOW\",\"SHIMLA\",\"MUMBAI\",\"AHMEDABAD\",\"KOLKATA\",\"PATNA\",\"GUWAHATI\",\"PORT_BLAIR\",\"HYDERABAD\"]\n",
    "\n",
    "#Import csv\n",
    "df_CHENNAI=pd.read_csv('D:\\Projects\\price_history\\data\\prices_CHENNAI.csv')\n",
    "df_DELHI=pd.read_csv('D:\\Projects\\price_history\\data\\prices_DELHI.csv')\n",
    "df_LUCKNOW=pd.read_csv('D:\\Projects\\price_history\\data\\prices_LUCKNOW.csv')\n",
    "df_SHIMLA=pd.read_csv('D:\\Projects\\price_history\\data\\prices_SHIMLA.csv')\n",
    "df_MUMBAI=pd.read_csv('D:\\Projects\\price_history\\data\\prices_MUMBAI.csv')\n",
    "df_AHMEDABAD=pd.read_csv('D:\\Projects\\price_history\\data\\prices_AHMEDABAD.csv')\n",
    "df_KOLKATA=pd.read_csv('D:\\Projects\\price_history\\data\\prices_KOLKATA.csv')\n",
    "df_PATNA=pd.read_csv('D:\\Projects\\price_history\\data\\prices_PATNA.csv')\n",
    "df_GUWAHATI=pd.read_csv('D:\\Projects\\price_history\\data\\prices_GUWAHATI.csv')\n",
    "df_PORT_BLAIR=pd.read_csv('D:\\Projects\\price_history\\data\\prices_PORT_BLAIR.csv')\n",
    "df_HYDERABAD=pd.read_csv('D:\\Projects\\price_history\\data\\prices_HYDERABAD.csv')\n",
    "\n",
    "## changing the format from object to datetime in pandas\n",
    "\n",
    "df_CHENNAI['23'] =  pd.to_datetime(df_CHENNAI['23'], format='%d/%m/%Y')\n",
    "df_DELHI['23'] =  pd.to_datetime(df_DELHI['23'], format='%d/%m/%Y')\n",
    "df_LUCKNOW['23'] =  pd.to_datetime(df_LUCKNOW['23'], format='%d/%m/%Y')\n",
    "df_SHIMLA['23'] =  pd.to_datetime(df_SHIMLA['23'], format='%d/%m/%Y')\n",
    "df_MUMBAI['23'] =  pd.to_datetime(df_MUMBAI['23'], format='%d/%m/%Y')\n",
    "df_AHMEDABAD['23'] =  pd.to_datetime(df_AHMEDABAD['23'], format='%d/%m/%Y')\n",
    "df_KOLKATA['23'] =  pd.to_datetime(df_KOLKATA['23'], format='%d/%m/%Y')\n",
    "df_PATNA['23'] =  pd.to_datetime(df_PATNA['23'], format='%d/%m/%Y')\n",
    "df_GUWAHATI['23'] =  pd.to_datetime(df_GUWAHATI['23'], format='%d/%m/%Y')\n",
    "df_PORT_BLAIR['23'] =  pd.to_datetime(df_PORT_BLAIR['23'], format='%d/%m/%Y')\n",
    "df_HYDERABAD['23'] =  pd.to_datetime(df_HYDERABAD['23'], format='%d/%m/%Y')\n",
    "\n",
    "#Missing Value imputation\n",
    "df_CHENNAI[['1','2','3','4','5','6','7','8','9','10','11','12','13','14','15','16','17','18','19','20','21','22']] = df_CHENNAI[['1','2','3','4','5','6','7','8','9','10','11','12','13','14','15','16','17','18','19','20','21','22']].interpolate(limit_direction='both')\n",
    "df_DELHI[['1','2','3','4','5','6','7','8','9','10','11','12','13','14','15','16','17','18','19','20','21','22']] = df_DELHI[['1','2','3','4','5','6','7','8','9','10','11','12','13','14','15','16','17','18','19','20','21','22']].interpolate(limit_direction='both')\n",
    "df_LUCKNOW[['1','2','3','4','5','6','7','8','9','10','11','12','13','14','15','16','17','18','19','20','21','22']] = df_LUCKNOW[['1','2','3','4','5','6','7','8','9','10','11','12','13','14','15','16','17','18','19','20','21','22']].interpolate(limit_direction='both')\n",
    "df_SHIMLA[['1','2','3','4','5','6','7','8','9','10','11','12','13','14','15','16','17','18','19','20','21','22']] = df_SHIMLA[['1','2','3','4','5','6','7','8','9','10','11','12','13','14','15','16','17','18','19','20','21','22']].interpolate(limit_direction='both')\n",
    "df_MUMBAI[['1','2','3','4','5','6','7','8','9','10','11','12','13','14','15','16','17','18','19','20','21','22']] = df_MUMBAI[['1','2','3','4','5','6','7','8','9','10','11','12','13','14','15','16','17','18','19','20','21','22']].interpolate(limit_direction='both')\n",
    "df_AHMEDABAD[['1','2','3','4','5','6','7','8','9','10','11','12','13','14','15','16','17','18','19','20','21','22']] = df_AHMEDABAD[['1','2','3','4','5','6','7','8','9','10','11','12','13','14','15','16','17','18','19','20','21','22']].interpolate(limit_direction='both')\n",
    "df_KOLKATA[['1','2','3','4','5','6','7','8','9','10','11','12','13','14','15','16','17','18','19','20','21','22']] = df_KOLKATA[['1','2','3','4','5','6','7','8','9','10','11','12','13','14','15','16','17','18','19','20','21','22']].interpolate(limit_direction='both')\n",
    "df_PATNA[['1','2','3','4','5','6','7','8','9','10','11','12','13','14','15','16','17','18','19','20','21','22']] = df_PATNA[['1','2','3','4','5','6','7','8','9','10','11','12','13','14','15','16','17','18','19','20','21','22']].interpolate(limit_direction='both')\n",
    "df_GUWAHATI[['1','2','3','4','5','6','7','8','9','10','11','12','13','14','15','16','17','18','19','20','21','22']] = df_GUWAHATI[['1','2','3','4','5','6','7','8','9','10','11','12','13','14','15','16','17','18','19','20','21','22']].interpolate(limit_direction='both')\n",
    "df_PORT_BLAIR[['1','2','3','4','5','6','7','8','9','10','11','12','13','14','15','16','17','18','19','20','21','22']] = df_PORT_BLAIR[['1','2','3','4','5','6','7','8','9','10','11','12','13','14','15','16','17','18','19','20','21','22']].interpolate(limit_direction='both')\n",
    "df_HYDERABAD[['1','2','3','4','5','6','7','8','9','10','11','12','13','14','15','16','17','18','19','20','21','22']] = df_HYDERABAD[['1','2','3','4','5','6','7','8','9','10','11','12','13','14','15','16','17','18','19','20','21','22']].interpolate(limit_direction='both')\n",
    "\n",
    "#merging the columns\n",
    "df=pd.concat([df_CHENNAI, df_DELHI,df_LUCKNOW,df_SHIMLA,df_MUMBAI,df_AHMEDABAD,df_KOLKATA,df_PATNA,df_GUWAHATI,df_PORT_BLAIR,df_HYDERABAD])\n",
    "\n",
    "#renaming all the columns\n",
    "column_list=['City','Rice','Wheat','Atta (Wheat)','Gram Dal','Tur/Arhar Dal','Urad Dal','Moong Dal','Masoor Dal','Sugar',\n",
    "            'Milk','Groundnut Oil (Packed)','Mustard Oil (Packed)','Vanaspati (Packed)','Soya Oil (Packed)','Sunflower Oil (Packed)',\n",
    "            'Palm Oil (Packed)','Gur','Tea Loose','Salt Pack (Iodised)','Potato','Onion','Tomato','Date']\n",
    "df.columns=column_list"
   ]
  },
  {
   "cell_type": "code",
   "execution_count": 4,
   "id": "c270546e",
   "metadata": {},
   "outputs": [],
   "source": [
    "#check: \n",
    "#df.shape[0]/11 should be a whole number"
   ]
  },
  {
   "cell_type": "markdown",
   "id": "60bafcf9",
   "metadata": {},
   "source": [
    "# Question 1\n",
    "\n",
    "1. Which is more costly? Living in a tier 1 city or a hill station or a island like port blair? How much is it better than the rest of the country? (quantify it)"
   ]
  },
  {
   "cell_type": "code",
   "execution_count": null,
   "id": "9a618ba0",
   "metadata": {},
   "outputs": [],
   "source": [
    "from sklearn.preprocessing import MinMaxScaler\n",
    "# copy the data\n",
    "df_scaled = df.copy()\n",
    "# apply normalization technique\n",
    "df_scaled.iloc[:,1:23] = MinMaxScaler().fit_transform(df_scaled.iloc[:,1:23])\n",
    "\n",
    "d={}\n",
    "l=[]\n",
    "places=[\"CHENNAI\",\"DELHI\",\"LUCKNOW\",\"SHIMLA\",\"MUMBAI\",\"AHMEDABAD\",\"KOLKATA\",\"PATNA\",\"GUWAHATI\",\"PORT BLAIR\",\"HYDERABAD\"]\n",
    "for i in range(len(places)):\n",
    "    \n",
    "    d[places[i]]=df_scaled[df_scaled[\"City\"]==places[i]].iloc[2500,1:23].sum()\n",
    "    l.append([d[places[i]],places[i]])\n",
    "l.sort()\n",
    "for ele in l:\n",
    "    print(ele)"
   ]
  },
  {
   "cell_type": "code",
   "execution_count": null,
   "id": "12342a2a",
   "metadata": {},
   "outputs": [],
   "source": [
    "# Plotting the normalised cost change over the years\n",
    "for i in range(len(places)):\n",
    "    df_scaled[df_scaled[\"City\"]==places[i]].iloc[:,1:23].sum(axis=1).plot(figsize=(20, 10))"
   ]
  },
  {
   "cell_type": "code",
   "execution_count": null,
   "id": "ab1a25b8",
   "metadata": {},
   "outputs": [],
   "source": [
    "#This is renamed as scaled_data_new for Tableau\n",
    "\n",
    "df_new=pd.DataFrame()\n",
    "places=[\"CHENNAI\",\"DELHI\",\"LUCKNOW\",\"SHIMLA\",\"MUMBAI\",\"AHMEDABAD\",\"KOLKATA\",\"PATNA\",\"GUWAHATI\",\"PORT BLAIR\",\"HYDERABAD\"]\n",
    "# Plotting the normalised cost change over the years\n",
    "for i in range(len(places)):\n",
    "    df_new[places[i]]=df_scaled[df_scaled[\"City\"]==places[i]].iloc[:,1:23].sum(axis=1)\n",
    "\n",
    "df_new['Date']=df_CHENNAI['23']\n",
    "#df_new.to_csv(data_path+'df_new.csv', index=False)\n"
   ]
  },
  {
   "cell_type": "code",
   "execution_count": null,
   "id": "22d3816b",
   "metadata": {},
   "outputs": [],
   "source": [
    "# Drawing the Bar chart\n",
    "year='2022'\n",
    "df_test=df_new[df_new['Date'].dt.to_period('Y')==year]\n",
    "l=df_test.mean().to_frame().reset_index()\n",
    "l.columns=['City','Avg. Scaled Prices']s\n",
    "l=l.sort_values('Avg. Scaled Prices')\n",
    "l=l.reset_index(drop=True)\n",
    "\n",
    "#percentage change\n",
    "percentage_change=round(100*((l.iloc[-1,1]-l.iloc[0,1])/l.iloc[0,1]),2)\n",
    "plt.bar(l['City'],l['Avg. Scaled Prices'])"
   ]
  }
 ],
 "metadata": {
  "kernelspec": {
   "display_name": "Python 3 (ipykernel)",
   "language": "python",
   "name": "python3"
  },
  "language_info": {
   "codemirror_mode": {
    "name": "ipython",
    "version": 3
   },
   "file_extension": ".py",
   "mimetype": "text/x-python",
   "name": "python",
   "nbconvert_exporter": "python",
   "pygments_lexer": "ipython3",
   "version": "3.10.4"
  }
 },
 "nbformat": 4,
 "nbformat_minor": 5
}
